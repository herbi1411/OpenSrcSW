{
 "cells": [
  {
   "cell_type": "code",
   "execution_count": 18,
   "metadata": {},
   "outputs": [
    {
     "name": "stdout",
     "output_type": "stream",
     "text": [
      "(1,2)\n",
      "(3,4)\n",
      "(4,6)\n"
     ]
    }
   ],
   "source": [
    "class Point:\n",
    "    num1 = 0\n",
    "    num2 = 0\n",
    "    def __init__(self,a,b):\n",
    "        self.num1 = a\n",
    "        self.num2 = b\n",
    "    def show(self):\n",
    "        print(\"({0:d},{1:d})\".format(self.num1,self.num2))\n",
    "        \n",
    "    def __add__(self,other):\n",
    "        self.num1 += other.num1\n",
    "        self.num2 += other.num2\n",
    "        return self\n",
    "    \n",
    "a = Point(1,2)\n",
    "a.show()\n",
    "\n",
    "b = Point(3,4)\n",
    "b.show()\n",
    "\n",
    "a = a + b\n",
    "a.show()"
   ]
  },
  {
   "cell_type": "code",
   "execution_count": 38,
   "metadata": {},
   "outputs": [
    {
     "name": "stdout",
     "output_type": "stream",
     "text": [
      "Max week = 05/08 ~ 05/14\n"
     ]
    }
   ],
   "source": [
    "import csv\n",
    "\n",
    "file = open(\"seoul.csv\")\n",
    "data = csv.reader(file,delimiter=\",\")\n",
    "next(data)\n",
    "\n",
    "\n",
    "diff = []\n",
    "for row in data:\n",
    "    diff.append(float(row[4]) - float(row[3]))\n",
    "    data2.append(row)\n",
    "\n",
    "diff2 = []\n",
    "for i in range(len(diff)-6):\n",
    "    diff2.append(sum(diff[i:i+7]))\n",
    "\n",
    "del data2[0]\n",
    "start_day_index = diff2.index(max(diff2))\n",
    "start_day_y ,start_day_m , start_day_d = data2[start_day_index][0].split('-')\n",
    "end_day_y, end_day_m, end_day_d= data2[start_day_index + 6][0].split('-')\n",
    "\n",
    "print(\"Max week = {0:s}/{1:s} ~ {2:s}/{3:s}\".format(start_day_m,start_day_d,end_day_m,end_day_d))"
   ]
  },
  {
   "cell_type": "code",
   "execution_count": 84,
   "metadata": {},
   "outputs": [
    {
     "name": "stdout",
     "output_type": "stream",
     "text": [
      "[0.16666666666666666, 0.25, 0.2222222222222222]\n"
     ]
    },
    {
     "data": {
      "image/png": "[encoded data removed]",
      "text/plain": [
       "<Figure size 432x288 with 1 Axes>"
      ]
     },
     "metadata": {
      "needs_background": "light"
     },
     "output_type": "display_data"
    }
   ],
   "source": [
    "import numpy as np\n",
    "import matplotlib.pyplot as plt\n",
    "\n",
    "docs = np.array([1,1,0,1,0,1,1,1,1,0,1,0,1,1,0,1,0,0]).reshape(3,6)\n",
    "query = np.array([1,1,0,0,1,0])\n",
    "result = []\n",
    "for doc in docs:\n",
    "    a = np.sum(doc * query) #분자\n",
    "    b = np.sum(np.sqrt(doc**2)) * np.sum(np.sqrt(query**2)) #분모\n",
    "    result.append(a/b)\n",
    "print(result)\n",
    "for i in range(len(docs)):\n",
    "    plt.plot(\"doc {0:d} = {1:.2f}\".format(i,result[i]),result[i])\n",
    "plt.title(\"Cosine similarities\")\n",
    "plt.show()"
   ]
  },
  {
   "cell_type": "code",
   "execution_count": null,
   "metadata": {},
   "outputs": [],
   "source": []
  }
 ],
 "metadata": {
  "kernelspec": {
   "display_name": "Python 3",
   "language": "python",
   "name": "python3"
  },
  "language_info": {
   "codemirror_mode": {
    "name": "ipython",
    "version": 3
   },
   "file_extension": ".py",
   "mimetype": "text/x-python",
   "name": "python",
   "nbconvert_exporter": "python",
   "pygments_lexer": "ipython3",
   "version": "3.7.6"
  }
 },
 "nbformat": 4,
 "nbformat_minor": 4
}
