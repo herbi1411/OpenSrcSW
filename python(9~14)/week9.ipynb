{
 "cells": [
  {
   "cell_type": "code",
   "execution_count": 5,
   "metadata": {},
   "outputs": [
    {
     "name": "stdout",
     "output_type": "stream",
     "text": [
      "x의 값을 입력하세요: 5\n",
      "103\n"
     ]
    }
   ],
   "source": [
    "#실습1: 수치계산\n",
    "#x값을 입력받아 2차방정식의 y값을 계산하는 프로그램을 작성하시오.\n",
    "# y = 3x^2 +5x+3\n",
    "\n",
    "x = int(input(\"x의 값을 입력하세요: \"))\n",
    "print(3*(x*x) + 5 * x + 3)"
   ]
  },
  {
   "cell_type": "code",
   "execution_count": 16,
   "metadata": {},
   "outputs": [
    {
     "name": "stdout",
     "output_type": "stream",
     "text": [
      "반지름의 값을 입력하세요: 100\n",
      "둘레 : 628, 넓이 : 31400\n"
     ]
    }
   ],
   "source": [
    "#반지름을 입력받아 원의 둘레와 넓이를 구하는 프로그램을 작성하시오.\n",
    "x = float(input(\"반지름의 값을 입력하세요: \"))\n",
    "pi = 3.14\n",
    "print(\"둘레 : %g, 넓이 : %g\"%(x * 2 * pi, pi * x * x))"
   ]
  }
 ],
 "metadata": {
  "kernelspec": {
   "display_name": "Python 3",
   "language": "python",
   "name": "python3"
  },
  "language_info": {
   "codemirror_mode": {
    "name": "ipython",
    "version": 3
   },
   "file_extension": ".py",
   "mimetype": "text/x-python",
   "name": "python",
   "nbconvert_exporter": "python",
   "pygments_lexer": "ipython3",
   "version": "3.7.6"
  }
 },
 "nbformat": 4,
 "nbformat_minor": 4
}
