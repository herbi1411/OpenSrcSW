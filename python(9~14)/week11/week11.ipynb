{
 "cells": [
  {
   "cell_type": "code",
   "execution_count": 14,
   "metadata": {},
   "outputs": [
    {
     "name": "stdout",
     "output_type": "stream",
     "text": [
      "cp file1.txt file2.txt\n"
     ]
    }
   ],
   "source": [
    "#실습 6: copy\n",
    "#Unix의 cp(copy) 명령어를 python으로 구현하시오.\n",
    "while True:\n",
    "    userinput = input()\n",
    "    userinput_s = userinput.split()\n",
    "    if userinput_s[0] != \"cp\":\n",
    "        print(\"이 코드는 cp를 위한 코드입니다. 첫번째 인자로 cp를 입력해주세요.\")\n",
    "    elif len(userinput_s) != 3:\n",
    "        print(\"인자값을 올바르게 입력해주세요.\")\n",
    "    else:\n",
    "        try:\n",
    "            file1 = userinput_s[1]\n",
    "            f1 = open(file1,'r',encoding=\"UTF-8\")\n",
    "        except:\n",
    "            print(\"{0:s} : 해당 파일이 존재하지 않습니다.\".format(file1))\n",
    "            continue\n",
    "        file2 = userinput_s[2]\n",
    "        f2 = open(file2,'w',encoding=\"UTF-8\")\n",
    "        break\n",
    "lines = f1.readlines()\n",
    "for line in lines:\n",
    "    f2.write(line)\n",
    "f1.close()\n",
    "f2.close()"
   ]
  },
  {
   "cell_type": "code",
   "execution_count": 15,
   "metadata": {},
   "outputs": [
    {
     "name": "stdout",
     "output_type": "stream",
     "text": [
      "wc file2.txt\n",
      "file2.txt of lines:  4\n",
      "file2.txt of words:  9\n"
     ]
    }
   ],
   "source": [
    "#실습 7: wc\n",
    "#Unix의 wc 명령어를 python으로 구현하시오.\n",
    "while True:\n",
    "    userinput = input()\n",
    "    userinput_s = userinput.split()\n",
    "    if userinput_s[0] != \"wc\":\n",
    "        print(\"이 코드는 wc를 위한 코드입니다. 첫번째 인자로 wc를 입력해주세요.\")\n",
    "    elif len(userinput_s) != 2:\n",
    "        print(\"인자값을 올바르게 입력해주세요.\")\n",
    "    else:\n",
    "        try:\n",
    "            file = userinput_s[1]\n",
    "            f = open(file,'r',encoding=\"UTF-8\")\n",
    "        except:\n",
    "            print(\"{0:s} : 해당 파일이 존재하지 않습니다.\".format(file))\n",
    "            continue\n",
    "        break\n",
    "lines = f.readlines()\n",
    "wc = 0\n",
    "for line in lines:\n",
    "    wc += len(line.split())\n",
    "print(file,\"of lines: \",len(lines))\n",
    "print(file,\"of words: \",wc)\n",
    "f.close()"
   ]
  },
  {
   "cell_type": "code",
   "execution_count": 4,
   "metadata": {},
   "outputs": [
    {
     "name": "stdout",
     "output_type": "stream",
     "text": [
      "1 + 2 = 3 입니다.\n",
      "5 - 1 = 4 입니다.\n",
      "2 * 3 = 6 입니다.\n",
      "6 / 2 = 3 입니다.\n"
     ]
    }
   ],
   "source": [
    "#실습 8: 사칙연산클래스\n",
    "import class_ex\n",
    "calc = class_ex.Calc()\n",
    "calc.sum(1,2)\n",
    "calc.sub(5,1)\n",
    "calc.multi(2,3)\n",
    "calc.divi(6,2)"
   ]
  },
  {
   "cell_type": "code",
   "execution_count": 1,
   "metadata": {},
   "outputs": [
    {
     "name": "stdout",
     "output_type": "stream",
     "text": [
      "계산 식을 공백으로 구분하여 입력하세요:1 + 2 - 3 * 4 + 5\n",
      "1+2-3*4+5 = -4\n"
     ]
    }
   ],
   "source": [
    "# 실습 9: 계산기\n",
    "# 공백으로 구분되어 있는 계산식을 입력하면 스택을 이용하여 계산을 수행하고 그 결과를 출력하는 프로그램을 작성하시오.\n",
    "import class_stack\n",
    "\n",
    "\n",
    "def cal(ns, o):\n",
    "    b = ns.pop()\n",
    "    a = ns.pop()\n",
    "    if o == \"*\":\n",
    "        ns.add(a * b)\n",
    "    elif o == \"/\":\n",
    "        ns.add(a / b)\n",
    "    elif o == \"+\":\n",
    "        ns.add(a + b)\n",
    "    elif o == \"-\":\n",
    "        ns.add(a - b)\n",
    "\n",
    "\n",
    "ns = class_stack.Stack()\n",
    "os = class_stack.Stack()\n",
    "odic = {\"*\": 1, \"/\": 1, \"+\": 2, \"-\": 2, \"(\": 3}\n",
    "\n",
    "ip = input(\"계산 식을 공백으로 구분하여 입력하세요:\").split()\n",
    "\n",
    "for i in ip:\n",
    "    if i in [\"+\", \"-\", \"*\", \"/\"]:\n",
    "        while not os.isEmpty() and odic[i] >= odic[os.top()]:\n",
    "            cal(ns, os.pop())\n",
    "        os.add(i)\n",
    "    elif i == \"(\":\n",
    "        os.add(i)\n",
    "    elif i == \")\":\n",
    "        while os.top() != \"(\":\n",
    "            cal(ns,os.pop())\n",
    "        os.pop()\n",
    "    else:\n",
    "        ns.add(int(i))\n",
    "while not os.isEmpty():\n",
    "    cal(ns, os.pop())\n",
    "result = ns.pop()\n",
    "print(\"{0:s} = {1:g}\".format(''.join(ip),result))"
   ]
  },
  {
   "cell_type": "code",
   "execution_count": null,
   "metadata": {},
   "outputs": [],
   "source": []
  }
 ],
 "metadata": {
  "kernelspec": {
   "display_name": "Python 3",
   "language": "python",
   "name": "python3"
  },
  "language_info": {
   "codemirror_mode": {
    "name": "ipython",
    "version": 3
   },
   "file_extension": ".py",
   "mimetype": "text/x-python",
   "name": "python",
   "nbconvert_exporter": "python",
   "pygments_lexer": "ipython3",
   "version": "3.7.6"
  }
 },
 "nbformat": 4,
 "nbformat_minor": 4
}
