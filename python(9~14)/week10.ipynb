{
 "cells": [
  {
   "cell_type": "code",
   "execution_count": 5,
   "metadata": {},
   "outputs": [
    {
     "name": "stdout",
     "output_type": "stream",
     "text": [
      "Numbers? 134 231 145 485 621 \n",
      "Max =  621\n"
     ]
    }
   ],
   "source": [
    "#실습2: 최대값 구하기\n",
    "#숫자열을 입력받아 최대값을 찾아내는 프로그램을 작성하시오.\n",
    "\n",
    "print(\"Max = \",max(list(map(int,input(\"Numbers? \").split( )))))"
   ]
  },
  {
   "cell_type": "code",
   "execution_count": 4,
   "metadata": {},
   "outputs": [
    {
     "name": "stdout",
     "output_type": "stream",
     "text": [
      "암호화 할 문자열을 입력하세요: abc def\n",
      "결과: efg bcd \n",
      "복호화 할 문자열을 입력하세요: efg bcd\n",
      "결과: abc def \n"
     ]
    }
   ],
   "source": [
    "#실습3: 암호화/복호화\n",
    "#입력받은 문자열을 다음과 같은 방법으로 암호화하고 복호화하는 프로그램을 작성하시오.\n",
    "\n",
    "\n",
    "#암호화\n",
    "l = input(\"암호화 할 문자열을 입력하세요: \").split()\n",
    "l.reverse()\n",
    "s = \"\"\n",
    "for li in l:\n",
    "    for i in li:\n",
    "        s += chr(ord(i) + 1)\n",
    "    s += \" \"\n",
    "print(\"결과:\",s)\n",
    "\n",
    "#복호화\n",
    "l = input(\"복호화 할 문자열을 입력하세요: \").split()\n",
    "l.reverse()\n",
    "s = \"\"\n",
    "for li in l:\n",
    "    for i in li:\n",
    "        s += chr(ord(i) - 1)\n",
    "    s += \" \"\n",
    "print(\"결과:\",s)"
   ]
  },
  {
   "cell_type": "code",
   "execution_count": 4,
   "metadata": {},
   "outputs": [
    {
     "name": "stdout",
     "output_type": "stream",
     "text": [
      "<10명의 이름과 전화번호를 입력하세요>\n",
      "1 번째 사람의 이름과 전화번호를 입력하세요(이름 번화번호):a 123\n",
      "2 번째 사람의 이름과 전화번호를 입력하세요(이름 번화번호):b 456\n",
      "3 번째 사람의 이름과 전화번호를 입력하세요(이름 번화번호):c 789\n",
      "4 번째 사람의 이름과 전화번호를 입력하세요(이름 번화번호):d 012\n",
      "5 번째 사람의 이름과 전화번호를 입력하세요(이름 번화번호):e 345\n",
      "6 번째 사람의 이름과 전화번호를 입력하세요(이름 번화번호):f 678\n",
      "7 번째 사람의 이름과 전화번호를 입력하세요(이름 번화번호):g 901\n",
      "8 번째 사람의 이름과 전화번호를 입력하세요(이름 번화번호):h 234\n",
      "9 번째 사람의 이름과 전화번호를 입력하세요(이름 번화번호):i 567\n",
      "10 번째 사람의 이름과 전화번호를 입력하세요(이름 번화번호):j 890\n",
      "메뉴를 선택하세요 (0:종료 1:이름검색 2:전화번호검색)1\n",
      "검색할 이름을 입력하세요: e\n",
      "결과: 345\n",
      "메뉴를 선택하세요 (0:종료 1:이름검색 2:전화번호검색)1\n",
      "검색할 이름을 입력하세요: g\n",
      "결과: 901\n",
      "메뉴를 선택하세요 (0:종료 1:이름검색 2:전화번호검색)2\n",
      "검색할 전화번호를 입력하세요: 567\n",
      "결과: i\n",
      "메뉴를 선택하세요 (0:종료 1:이름검색 2:전화번호검색)2\n",
      "검색할 전화번호를 입력하세요: 012\n",
      "결과: d\n",
      "메뉴를 선택하세요 (0:종료 1:이름검색 2:전화번호검색)0\n"
     ]
    }
   ],
   "source": [
    "#실습4: 전화번호부\n",
    "#10명의 이름과 전화번호를 입력 받아 전화번호 사전을 만들고, 이름과 전화번호로 검색하는 프로그램을 작성하시오.\n",
    "\n",
    "dic = dict()\n",
    "dic_rev = dict()\n",
    "menu = 1\n",
    "print(\"<10명의 이름과 전화번호를 입력하세요>\")\n",
    "for i in range(10):\n",
    "    print(i+1, \"번째 사람의 이름과 전화번호를 입력하세요(이름 번화번호):\",end =\"\")\n",
    "    a,b = input().split()\n",
    "    dic[a] = b\n",
    "\n",
    "dic_rev = {k:v for v,k in dic.items()}\n",
    "\n",
    "while menu:\n",
    "    menu = int(input(\"메뉴를 선택하세요 (0:종료 1:이름검색 2:전화번호검색)\"))\n",
    "    if menu == 1:\n",
    "        name = input(\"검색할 이름을 입력하세요: \")\n",
    "        print(\"결과:\",dic.get(name))\n",
    "    elif menu == 2:\n",
    "        callnum = input(\"검색할 전화번호를 입력하세요: \")\n",
    "        print(\"결과:\",dic_rev.get(callnum))"
   ]
  },
  {
   "cell_type": "code",
   "execution_count": null,
   "metadata": {},
   "outputs": [],
   "source": []
  }
 ],
 "metadata": {
  "kernelspec": {
   "display_name": "Python 3",
   "language": "python",
   "name": "python3"
  },
  "language_info": {
   "codemirror_mode": {
    "name": "ipython",
    "version": 3
   },
   "file_extension": ".py",
   "mimetype": "text/x-python",
   "name": "python",
   "nbconvert_exporter": "python",
   "pygments_lexer": "ipython3",
   "version": "3.7.6"
  }
 },
 "nbformat": 4,
 "nbformat_minor": 4
}
